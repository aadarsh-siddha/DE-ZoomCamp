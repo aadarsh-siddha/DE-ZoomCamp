{
 "cells": [
  {
   "cell_type": "code",
   "execution_count": 1,
   "id": "1e01cc27-d4a7-4c43-9817-962fb39627a3",
   "metadata": {},
   "outputs": [],
   "source": [
    "import pyspark\n",
    "from pyspark.sql import SparkSession"
   ]
  },
  {
   "cell_type": "code",
   "execution_count": 2,
   "id": "c12b3a42-7609-4554-a0d1-3cb8fda6f8f1",
   "metadata": {},
   "outputs": [
    {
     "name": "stderr",
     "output_type": "stream",
     "text": [
      "Setting default log level to \"WARN\".\n",
      "To adjust logging level use sc.setLogLevel(newLevel). For SparkR, use setLogLevel(newLevel).\n",
      "25/02/28 20:10:18 WARN NativeCodeLoader: Unable to load native-hadoop library for your platform... using builtin-java classes where applicable\n"
     ]
    }
   ],
   "source": [
    "\n",
    "spark = SparkSession.builder \\\n",
    "    .appName(\"MemoryTuning\") \\\n",
    "    .config(\"spark.driver.memory\", \"8g\") \\\n",
    "    .config(\"spark.executor.memory\", \"8g\") \\\n",
    "    .getOrCreate()"
   ]
  },
  {
   "cell_type": "code",
   "execution_count": 15,
   "id": "16746ded-a413-4bbf-8f4d-e37125c529c6",
   "metadata": {},
   "outputs": [
    {
     "name": "stdout",
     "output_type": "stream",
     "text": [
      "--2025-02-28 20:06:36--  https://d37ci6vzurychx.cloudfront.net/trip-data/fhvhv_tripdata_2024-01.parquet\n",
      "Resolving d37ci6vzurychx.cloudfront.net (d37ci6vzurychx.cloudfront.net)... 54.230.209.126, 54.230.209.72, 54.230.209.200, ...\n",
      "Connecting to d37ci6vzurychx.cloudfront.net (d37ci6vzurychx.cloudfront.net)|54.230.209.126|:443... connected.\n",
      "HTTP request sent, awaiting response... 200 OK\n",
      "Length: 472757547 (451M) [binary/octet-stream]\n",
      "Saving to: ‘fhvhv_tripdata_2024-01.parquet.1’\n",
      "\n",
      "fhvhv_tripdata_2024 100%[===================>] 450.86M  84.0MB/s    in 5.3s    \n",
      "\n",
      "2025-02-28 20:06:41 (84.4 MB/s) - ‘fhvhv_tripdata_2024-01.parquet.1’ saved [472757547/472757547]\n",
      "\n"
     ]
    }
   ],
   "source": [
    "!wget https://d37ci6vzurychx.cloudfront.net/trip-data/fhvhv_tripdata_2024-01.parquet"
   ]
  },
  {
   "cell_type": "code",
   "execution_count": 3,
   "id": "c318514c-41e2-419e-87e2-727aa19f6762",
   "metadata": {},
   "outputs": [
    {
     "name": "stderr",
     "output_type": "stream",
     "text": [
      "                                                                                \r"
     ]
    }
   ],
   "source": [
    "df = spark.read \\\n",
    "     .option(\"header\",\"true\") \\\n",
    "     .parquet(\"fhvhv_tripdata_2024-01.parquet\")"
   ]
  },
  {
   "cell_type": "code",
   "execution_count": 4,
   "id": "90f34a6a-9778-47b3-8b1e-2ea927a05a90",
   "metadata": {},
   "outputs": [
    {
     "data": {
      "text/plain": [
       "[Row(hvfhs_license_num='HV0003', dispatching_base_num='B03404', originating_base_num='B03404', request_datetime=datetime.datetime(2024, 1, 1, 0, 21, 47), on_scene_datetime=datetime.datetime(2024, 1, 1, 0, 25, 6), pickup_datetime=datetime.datetime(2024, 1, 1, 0, 28, 8), dropoff_datetime=datetime.datetime(2024, 1, 1, 1, 5, 39), PULocationID=161, DOLocationID=158, trip_miles=2.83, trip_time=2251, base_passenger_fare=45.61, tolls=0.0, bcf=1.25, sales_tax=4.05, congestion_surcharge=2.75, airport_fee=0.0, tips=0.0, driver_pay=40.18, shared_request_flag='N', shared_match_flag='N', access_a_ride_flag='N', wav_request_flag='N', wav_match_flag='N'),\n",
       " Row(hvfhs_license_num='HV0003', dispatching_base_num='B03404', originating_base_num='B03404', request_datetime=datetime.datetime(2024, 1, 1, 0, 10, 56), on_scene_datetime=datetime.datetime(2024, 1, 1, 0, 11, 8), pickup_datetime=datetime.datetime(2024, 1, 1, 0, 12, 53), dropoff_datetime=datetime.datetime(2024, 1, 1, 0, 20, 5), PULocationID=137, DOLocationID=79, trip_miles=1.57, trip_time=432, base_passenger_fare=10.05, tolls=0.0, bcf=0.28, sales_tax=0.89, congestion_surcharge=2.75, airport_fee=0.0, tips=0.0, driver_pay=6.12, shared_request_flag='N', shared_match_flag='N', access_a_ride_flag='N', wav_request_flag='N', wav_match_flag='N'),\n",
       " Row(hvfhs_license_num='HV0003', dispatching_base_num='B03404', originating_base_num='B03404', request_datetime=datetime.datetime(2024, 1, 1, 0, 20, 4), on_scene_datetime=datetime.datetime(2024, 1, 1, 0, 21, 51), pickup_datetime=datetime.datetime(2024, 1, 1, 0, 23, 5), dropoff_datetime=datetime.datetime(2024, 1, 1, 0, 35, 16), PULocationID=79, DOLocationID=186, trip_miles=1.98, trip_time=731, base_passenger_fare=18.07, tolls=0.0, bcf=0.5, sales_tax=1.6, congestion_surcharge=2.75, airport_fee=0.0, tips=0.0, driver_pay=9.47, shared_request_flag='N', shared_match_flag='N', access_a_ride_flag='N', wav_request_flag='N', wav_match_flag='N'),\n",
       " Row(hvfhs_license_num='HV0003', dispatching_base_num='B03404', originating_base_num='B03404', request_datetime=datetime.datetime(2024, 1, 1, 0, 35, 46), on_scene_datetime=datetime.datetime(2024, 1, 1, 0, 39, 59), pickup_datetime=datetime.datetime(2024, 1, 1, 0, 41, 4), dropoff_datetime=datetime.datetime(2024, 1, 1, 0, 56, 34), PULocationID=234, DOLocationID=148, trip_miles=1.99, trip_time=930, base_passenger_fare=17.17, tolls=0.0, bcf=0.47, sales_tax=1.52, congestion_surcharge=2.75, airport_fee=0.0, tips=0.0, driver_pay=11.35, shared_request_flag='N', shared_match_flag='N', access_a_ride_flag='N', wav_request_flag='N', wav_match_flag='N'),\n",
       " Row(hvfhs_license_num='HV0003', dispatching_base_num='B03404', originating_base_num='B03404', request_datetime=datetime.datetime(2024, 1, 1, 0, 48, 19), on_scene_datetime=datetime.datetime(2024, 1, 1, 0, 56, 23), pickup_datetime=datetime.datetime(2024, 1, 1, 0, 57, 21), dropoff_datetime=datetime.datetime(2024, 1, 1, 1, 10, 2), PULocationID=148, DOLocationID=97, trip_miles=2.65, trip_time=761, base_passenger_fare=38.67, tolls=0.0, bcf=1.06, sales_tax=3.43, congestion_surcharge=2.75, airport_fee=0.0, tips=0.0, driver_pay=28.63, shared_request_flag='N', shared_match_flag='N', access_a_ride_flag='N', wav_request_flag='N', wav_match_flag='N')]"
      ]
     },
     "execution_count": 4,
     "metadata": {},
     "output_type": "execute_result"
    }
   ],
   "source": [
    "df.head(5)"
   ]
  },
  {
   "cell_type": "code",
   "execution_count": 5,
   "id": "9e7505cf-7cec-460d-8a52-f1770250ea7d",
   "metadata": {},
   "outputs": [
    {
     "data": {
      "text/plain": [
       "StructType([StructField('hvfhs_license_num', StringType(), True), StructField('dispatching_base_num', StringType(), True), StructField('originating_base_num', StringType(), True), StructField('request_datetime', TimestampNTZType(), True), StructField('on_scene_datetime', TimestampNTZType(), True), StructField('pickup_datetime', TimestampNTZType(), True), StructField('dropoff_datetime', TimestampNTZType(), True), StructField('PULocationID', IntegerType(), True), StructField('DOLocationID', IntegerType(), True), StructField('trip_miles', DoubleType(), True), StructField('trip_time', LongType(), True), StructField('base_passenger_fare', DoubleType(), True), StructField('tolls', DoubleType(), True), StructField('bcf', DoubleType(), True), StructField('sales_tax', DoubleType(), True), StructField('congestion_surcharge', DoubleType(), True), StructField('airport_fee', DoubleType(), True), StructField('tips', DoubleType(), True), StructField('driver_pay', DoubleType(), True), StructField('shared_request_flag', StringType(), True), StructField('shared_match_flag', StringType(), True), StructField('access_a_ride_flag', StringType(), True), StructField('wav_request_flag', StringType(), True), StructField('wav_match_flag', StringType(), True)])"
      ]
     },
     "execution_count": 5,
     "metadata": {},
     "output_type": "execute_result"
    }
   ],
   "source": [
    "df.schema"
   ]
  },
  {
   "cell_type": "code",
   "execution_count": 6,
   "id": "55abccb5-f900-40f1-92af-220c8c4bae39",
   "metadata": {},
   "outputs": [],
   "source": [
    "df = df.repartition(4)"
   ]
  },
  {
   "cell_type": "code",
   "execution_count": 7,
   "id": "09f1427a-d451-4d74-a7d2-29bca872a78c",
   "metadata": {},
   "outputs": [
    {
     "name": "stderr",
     "output_type": "stream",
     "text": [
      "                                                                                \r"
     ]
    }
   ],
   "source": [
    "df.write.parquet('fhvhv/2024/01/')"
   ]
  },
  {
   "cell_type": "code",
   "execution_count": 8,
   "id": "43fe2dc0-593d-4fee-846c-97bca21f4d02",
   "metadata": {},
   "outputs": [],
   "source": [
    "df = spark.read.parquet('fhvhv/2024/01/')"
   ]
  },
  {
   "cell_type": "code",
   "execution_count": 9,
   "id": "ec4db0e4-510e-4f07-ae6a-bdba49236f8e",
   "metadata": {},
   "outputs": [
    {
     "name": "stdout",
     "output_type": "stream",
     "text": [
      "root\n",
      " |-- hvfhs_license_num: string (nullable = true)\n",
      " |-- dispatching_base_num: string (nullable = true)\n",
      " |-- originating_base_num: string (nullable = true)\n",
      " |-- request_datetime: timestamp_ntz (nullable = true)\n",
      " |-- on_scene_datetime: timestamp_ntz (nullable = true)\n",
      " |-- pickup_datetime: timestamp_ntz (nullable = true)\n",
      " |-- dropoff_datetime: timestamp_ntz (nullable = true)\n",
      " |-- PULocationID: integer (nullable = true)\n",
      " |-- DOLocationID: integer (nullable = true)\n",
      " |-- trip_miles: double (nullable = true)\n",
      " |-- trip_time: long (nullable = true)\n",
      " |-- base_passenger_fare: double (nullable = true)\n",
      " |-- tolls: double (nullable = true)\n",
      " |-- bcf: double (nullable = true)\n",
      " |-- sales_tax: double (nullable = true)\n",
      " |-- congestion_surcharge: double (nullable = true)\n",
      " |-- airport_fee: double (nullable = true)\n",
      " |-- tips: double (nullable = true)\n",
      " |-- driver_pay: double (nullable = true)\n",
      " |-- shared_request_flag: string (nullable = true)\n",
      " |-- shared_match_flag: string (nullable = true)\n",
      " |-- access_a_ride_flag: string (nullable = true)\n",
      " |-- wav_request_flag: string (nullable = true)\n",
      " |-- wav_match_flag: string (nullable = true)\n",
      "\n"
     ]
    }
   ],
   "source": [
    "df.printSchema()"
   ]
  },
  {
   "cell_type": "code",
   "execution_count": 17,
   "id": "772201ab-5ec2-4d80-89eb-dce4621c1e09",
   "metadata": {},
   "outputs": [
    {
     "name": "stdout",
     "output_type": "stream",
     "text": [
      "+-------------------+-------------------+------------+------------+\n",
      "|    pickup_datetime|   dropoff_datetime|PULocationID|DOLocationID|\n",
      "+-------------------+-------------------+------------+------------+\n",
      "|2024-01-01 23:03:53|2024-01-01 23:13:39|          39|          72|\n",
      "|2024-01-02 17:03:13|2024-01-02 17:06:52|         208|         208|\n",
      "|2024-01-03 12:33:35|2024-01-03 12:52:18|         133|          14|\n",
      "|2024-01-02 15:01:10|2024-01-02 15:13:12|           9|           9|\n",
      "|2024-01-02 18:07:39|2024-01-02 18:15:07|         156|          23|\n",
      "|2024-01-03 14:23:41|2024-01-03 14:38:37|         107|         261|\n",
      "|2024-01-01 01:19:53|2024-01-01 01:32:42|         197|         258|\n",
      "|2024-01-02 21:27:32|2024-01-02 21:33:38|         143|         239|\n",
      "|2024-01-04 07:20:50|2024-01-04 07:26:31|          90|          68|\n",
      "|2024-01-01 07:42:18|2024-01-01 08:05:21|          36|         249|\n",
      "|2024-01-04 15:59:18|2024-01-04 16:05:05|         112|         112|\n",
      "|2024-01-02 07:56:49|2024-01-02 08:03:47|         152|          41|\n",
      "|2024-01-01 08:33:36|2024-01-01 09:09:10|          39|          17|\n",
      "|2024-01-01 02:09:47|2024-01-01 02:19:51|          33|         181|\n",
      "|2024-01-01 01:46:18|2024-01-01 01:58:37|         142|         246|\n",
      "|2024-01-01 18:23:41|2024-01-01 18:37:18|          74|         169|\n",
      "|2024-01-04 00:10:13|2024-01-04 00:18:56|          89|         188|\n",
      "|2024-01-01 01:44:16|2024-01-01 02:01:39|         135|         226|\n",
      "|2024-01-02 23:58:02|2024-01-03 00:07:24|          77|          35|\n",
      "|2024-01-04 07:48:20|2024-01-04 07:53:04|         186|         164|\n",
      "+-------------------+-------------------+------------+------------+\n",
      "only showing top 20 rows\n",
      "\n"
     ]
    }
   ],
   "source": [
    "## Select columns\n",
    "## Filter by column values\n",
    "df.select(['pickup_datetime', 'dropoff_datetime', 'PULocationID', 'DOLocationID']).filter(df.hvfhs_license_num == 'HV0003').show() "
   ]
  },
  {
   "cell_type": "code",
   "execution_count": 18,
   "id": "3d937104-19c2-46cd-b087-eb9b3ebd5ce5",
   "metadata": {},
   "outputs": [],
   "source": [
    "from pyspark.sql import functions as F"
   ]
  },
  {
   "cell_type": "code",
   "execution_count": 21,
   "id": "5945363b-24df-433d-b31f-6fe8e3d84dad",
   "metadata": {},
   "outputs": [
    {
     "name": "stdout",
     "output_type": "stream",
     "text": [
      "+-----------+------------+------------+------------+\n",
      "|pickup_date|dropoff_date|PULocationID|DOLocationID|\n",
      "+-----------+------------+------------+------------+\n",
      "| 2024-01-01|  2024-01-01|          39|          72|\n",
      "| 2024-01-02|  2024-01-02|         208|         208|\n",
      "| 2024-01-03|  2024-01-03|         133|          14|\n",
      "| 2024-01-02|  2024-01-02|           9|           9|\n",
      "| 2024-01-02|  2024-01-02|         156|          23|\n",
      "| 2024-01-03|  2024-01-03|         107|         261|\n",
      "| 2024-01-01|  2024-01-01|         197|         258|\n",
      "| 2024-01-02|  2024-01-02|         143|         239|\n",
      "| 2024-01-01|  2024-01-01|         162|         196|\n",
      "| 2024-01-01|  2024-01-01|          25|         256|\n",
      "| 2024-01-04|  2024-01-04|          90|          68|\n",
      "| 2024-01-04|  2024-01-04|          42|          74|\n",
      "| 2024-01-01|  2024-01-01|          36|         249|\n",
      "| 2024-01-04|  2024-01-04|         112|         112|\n",
      "| 2024-01-02|  2024-01-02|         152|          41|\n",
      "| 2024-01-01|  2024-01-01|          39|          17|\n",
      "| 2024-01-01|  2024-01-01|          33|         181|\n",
      "| 2024-01-01|  2024-01-01|         142|         246|\n",
      "| 2024-01-01|  2024-01-01|          74|         169|\n",
      "| 2024-01-04|  2024-01-04|          89|         188|\n",
      "+-----------+------------+------------+------------+\n",
      "only showing top 20 rows\n",
      "\n"
     ]
    }
   ],
   "source": [
    "df \\\n",
    "    .withColumn('pickup_date', F.to_date(df.pickup_datetime)) \\\n",
    "    .withColumn('dropoff_date', F.to_date(df.dropoff_datetime)) \\\n",
    "    .select(['pickup_date', 'dropoff_date', 'PULocationID', 'DOLocationID']) \\\n",
    "    .show()"
   ]
  },
  {
   "cell_type": "code",
   "execution_count": 23,
   "id": "49e35119-608c-47f4-a083-a456ae5ec282",
   "metadata": {},
   "outputs": [],
   "source": [
    "def crazy_stuff(base_num):\n",
    "    num = int(base_num[1:])\n",
    "    if num % 7 == 0:\n",
    "        return f's{num:03x}'\n",
    "    else:\n",
    "        return f'e{num:03x}'        "
   ]
  },
  {
   "cell_type": "code",
   "execution_count": null,
   "id": "6c86ad16-2527-43a1-b769-c8fd4fc9368b",
   "metadata": {},
   "outputs": [],
   "source": []
  }
 ],
 "metadata": {
  "kernelspec": {
   "display_name": "Python 3 (ipykernel)",
   "language": "python",
   "name": "python3"
  },
  "language_info": {
   "codemirror_mode": {
    "name": "ipython",
    "version": 3
   },
   "file_extension": ".py",
   "mimetype": "text/x-python",
   "name": "python",
   "nbconvert_exporter": "python",
   "pygments_lexer": "ipython3",
   "version": "3.12.7"
  }
 },
 "nbformat": 4,
 "nbformat_minor": 5
}
